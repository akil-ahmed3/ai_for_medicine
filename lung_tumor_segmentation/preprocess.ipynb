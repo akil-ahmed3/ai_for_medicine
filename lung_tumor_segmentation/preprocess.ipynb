{
 "cells": [
  {
   "cell_type": "markdown",
   "id": "dental-clear",
   "metadata": {},
   "source": [
    "## Introduction\n",
    "\n",
    "First, you need to obtain and preprocess the data for the segmentation task\n",
    "The data is provided by the medical segmentation decathlon challenge(http://medicaldecathlon.com/) <br />\n",
    "You can directly download the full body cts and segmentation maps from: <br />\n",
    "https://drive.google.com/file/d/1I1LR7XjyEZ-VBQ-Xruh31V7xExMjlVvi/view?usp=sharing\n",
    "\n",
    "(Data License: CC-BY-SA 4.0, https://creativecommons.org/licenses/by-sa/4.0/)"
   ]
  },
  {
   "cell_type": "markdown",
   "id": "exotic-continuity",
   "metadata": {},
   "source": [
    "## Imports\n",
    "Import the necessary libraries**"
   ]
  },
  {
   "cell_type": "code",
   "execution_count": 2,
   "id": "statistical-bidder",
   "metadata": {},
   "outputs": [],
   "source": [
    "from pathlib import Path\n",
    "import nibabel as nib\n",
    "import numpy as np\n",
    "import matplotlib.pyplot as plt\n",
    "from tqdm import tqdm\n",
    "import cv2"
   ]
  },
  {
   "cell_type": "markdown",
   "id": "sapphire-issue",
   "metadata": {},
   "source": [
    "## Inspection\n",
    "Define the paths to images and labels**"
   ]
  },
  {
   "cell_type": "code",
   "execution_count": 3,
   "id": "interracial-trick",
   "metadata": {},
   "outputs": [],
   "source": [
    "images_path = Path(\"../Data/lung_tumor_segmentation/imagesTr\") \n",
    "labels_path = Path(\"../Data/lung_tumor_segmentation/labelsTr\") "
   ]
  },
  {
   "cell_type": "markdown",
   "id": "satellite-polish",
   "metadata": {},
   "source": [
    "**Load a sample NIfTI and its corresponding label mask**<br />"
   ]
  },
  {
   "cell_type": "code",
   "execution_count": 4,
   "id": "likely-sunrise",
   "metadata": {},
   "outputs": [],
   "source": [
    "def change_image_path_to_label(path):\n",
    "    parts = list(path.parts)\n",
    "    parts[parts.index(\"imagesTr\")] = \"labelsTr\"\n",
    "    return Path(*parts)\n"
   ]
  },
  {
   "cell_type": "code",
   "execution_count": 5,
   "id": "c0ca3ce1",
   "metadata": {},
   "outputs": [
    {
     "data": {
      "text/plain": [
       "(PosixPath('../Data/lung_tumor_segmentation/imagesTr/lung_009.nii.gz'),\n",
       " PosixPath('../Data/lung_tumor_segmentation/labelsTr/lung_009.nii.gz'))"
      ]
     },
     "execution_count": 5,
     "metadata": {},
     "output_type": "execute_result"
    }
   ],
   "source": [
    "sample_image_path = list(images_path.glob(\"lung*\"))[0]\n",
    "sample_label_path = change_image_path_to_label(sample_image_path)\n",
    "sample_image_path, sample_label_path"
   ]
  },
  {
   "cell_type": "code",
   "execution_count": 6,
   "id": "6b7cbbc2",
   "metadata": {},
   "outputs": [],
   "source": [
    "image = nib.load(sample_image_path)\n",
    "label = nib.load(sample_label_path)\n",
    "\n",
    "image_data = image.get_fdata()\n",
    "label_data = label.get_fdata()"
   ]
  },
  {
   "cell_type": "code",
   "execution_count": 7,
   "id": "f1ff89ea",
   "metadata": {},
   "outputs": [
    {
     "data": {
      "text/plain": [
       "((512, 512, 301), (512, 512, 301))"
      ]
     },
     "execution_count": 7,
     "metadata": {},
     "output_type": "execute_result"
    }
   ],
   "source": [
    "image_data.shape, label_data.shape"
   ]
  },
  {
   "cell_type": "markdown",
   "id": "agreed-wyoming",
   "metadata": {},
   "source": [
    "**Find out the orientation**"
   ]
  },
  {
   "cell_type": "code",
   "execution_count": 8,
   "id": "intimate-provider",
   "metadata": {},
   "outputs": [
    {
     "data": {
      "text/plain": [
       "(('L', 'A', 'S'), ('L', 'A', 'S'))"
      ]
     },
     "execution_count": 8,
     "metadata": {},
     "output_type": "execute_result"
    }
   ],
   "source": [
    "nib.aff2axcodes(image.affine), nib.aff2axcodes(label.affine)"
   ]
  },
  {
   "cell_type": "markdown",
   "id": "optimum-integrity",
   "metadata": {},
   "source": [
    "**Inspect the loaded data with overlaid Ground Truth tumor segmentation**<br />"
   ]
  },
  {
   "cell_type": "code",
   "execution_count": 9,
   "id": "hindu-harvey",
   "metadata": {},
   "outputs": [],
   "source": [
    "from celluloid import Camera\n",
    "from IPython.display import HTML"
   ]
  },
  {
   "cell_type": "code",
   "execution_count": 10,
   "id": "a4814862",
   "metadata": {},
   "outputs": [],
   "source": [
    "# fig = plt.figure()\n",
    "# camera = Camera(fig)\n",
    "\n",
    "# for i in range(image_data.shape[2]):\n",
    "#     plt.imshow(image_data[:, :, i], cmap=\"gray\")\n",
    "#     mask_ = np.ma.masked_where(label_data[:, :, i] == 0, label_data[:, :, i])\n",
    "#     plt.imshow(mask_, alpha=0.4)\n",
    "#     camera.snap()\n",
    "\n",
    "# animation = camera.animate()"
   ]
  },
  {
   "cell_type": "code",
   "execution_count": 11,
   "id": "3e744cb8",
   "metadata": {},
   "outputs": [],
   "source": [
    "# HTML(animation.to_html5_video())"
   ]
  },
  {
   "cell_type": "markdown",
   "id": "mature-colors",
   "metadata": {},
   "source": [
    "## Preprocessing\n",
    "**Task: Please perform the following preprocessing steps:**\n",
    "\n",
    "1. CT images have a fixed range from -1000 to 3071. **Thus you could normalize by dividing by 3071** <br /> You don't need to compute mean and standard deviation for this task\n",
    "2. As we want to focus on lung tumors, we can crop away parts of the lower abdomen to reduce the complexity and help the network learn. As an example, **you might skip the first 30 slices (from lower abdomen to the neck)** (last axis)\n",
    "3. As we want to tackle this task on a slice level (2D) and not on a subject level (3D) to reduce the computational cost **you should store the preprocessed data as 2d files**, because reading a single slice is much faster than loading the complete NIfTI file.\n",
    "4. Resize the single slices and masks to (256, 256) (when resizing the mask, pass interpolation=cv2.INTER_NEAREST to the resize function to apply nearest neighbour interpolation)\n",
    "\n",
    "Loop over all_files and apply the preprocessing steps. <br />\n",
    "\n",
    "Additionally, please make sure that all scans have the same orientation\n",
    "\n",
    "In the preprocessing loop, you need to create a directory for each subject containg the ct and label slices with identical names. <br />\n",
    "E.g:\n",
    "* 0/data/0.npy\n",
    "* 0/masks/0.npy\n",
    "\n",
    "Store the last 6 subjects as validation data\n",
    "\n",
    "PS: Feel free to try the lung window!"
   ]
  },
  {
   "cell_type": "code",
   "execution_count": 12,
   "id": "dc249788",
   "metadata": {},
   "outputs": [],
   "source": [
    "def normalize_data(full_volume):\n",
    "    normalized = full_volume / 3071\n",
    "    return normalized\n",
    "\n",
    "def standardize(normalized):\n",
    "    standardized = (normalized - normalized.min()) / (normalized.max() - normalized.min())\n",
    "    return standardized"
   ]
  },
  {
   "cell_type": "code",
   "execution_count": 13,
   "id": "shared-efficiency",
   "metadata": {},
   "outputs": [
    {
     "data": {
      "text/plain": [
       "63"
      ]
     },
     "execution_count": 13,
     "metadata": {},
     "output_type": "execute_result"
    }
   ],
   "source": [
    "all_files = list(images_path.glob(\"lung_*\"))  # Get all subjects\n",
    "len(all_files)"
   ]
  },
  {
   "cell_type": "code",
   "execution_count": 30,
   "id": "44bacc59",
   "metadata": {},
   "outputs": [
    {
     "data": {
      "text/plain": [
       "53"
      ]
     },
     "execution_count": 30,
     "metadata": {},
     "output_type": "execute_result"
    }
   ],
   "source": [
    "len(all_files[10:])"
   ]
  },
  {
   "cell_type": "code",
   "execution_count": 32,
   "id": "cd09b76e",
   "metadata": {},
   "outputs": [
    {
     "name": "stderr",
     "output_type": "stream",
     "text": [
      "100%|██████████| 63/63 [06:47<00:00,  6.47s/it]\n"
     ]
    }
   ],
   "source": [
    "save_root = Path(\"../Data/lung_tumor_segmentation/processed\")\n",
    "strip_val = 0\n",
    "all_files_stripped = all_files[strip_val:]\n",
    "\n",
    "for counter, mri_data_path in enumerate(tqdm(all_files_stripped)):\n",
    "    path_to_label = change_image_path_to_label(mri_data_path)\n",
    "\n",
    "    mri = nib.load(mri_data_path)\n",
    "\n",
    "    assert nib.aff2axcodes(mri.affine) == ('L', 'A', 'S')\n",
    "    mri_data = mri.get_fdata()\n",
    "    label_data = nib.load(path_to_label).get_fdata().astype(np.uint8)\n",
    "\n",
    "    normalized_mri_data = normalize_data(mri_data)\n",
    "    standardized_mri_data = standardize(normalized_mri_data)\n",
    "\n",
    "    if counter < 57:\n",
    "        current_path = save_root/\"train\"/str(counter)\n",
    "    else:\n",
    "        current_path = save_root/\"val\"/str(counter)\n",
    "        \n",
    "\n",
    "    for i in range(standardized_mri_data.shape[-1]):\n",
    "        if i <= 30:\n",
    "            continue\n",
    "        slice = standardized_mri_data[:,:,i]\n",
    "        mask = label_data[:, :, i]\n",
    "\n",
    "        slice_resized = cv2.resize(slice, (256, 256), interpolation = cv2.INTER_NEAREST)\n",
    "        mask_resized = cv2.resize(mask, (256, 256), interpolation = cv2.INTER_NEAREST)\n",
    "        slice_path = current_path/\"data\"\n",
    "        mask_path = current_path/\"masks\"\n",
    "        \n",
    "        slice_path.mkdir(parents=True, exist_ok=True)\n",
    "        mask_path.mkdir(parents=True, exist_ok=True)\n",
    "        \n",
    "        np.save(slice_path/str(i), slice_resized)\n",
    "        np.save(mask_path/str(i), mask_resized)"
   ]
  },
  {
   "cell_type": "markdown",
   "id": "manual-digest",
   "metadata": {},
   "source": [
    "## Validate preprocessed data\n",
    "**Take a look at your stored files and inspect if everything worked as expected**"
   ]
  },
  {
   "cell_type": "code",
   "execution_count": 25,
   "id": "assigned-mountain",
   "metadata": {},
   "outputs": [
    {
     "data": {
      "text/plain": [
       "((256, 256), (256, 256))"
      ]
     },
     "execution_count": 25,
     "metadata": {},
     "output_type": "execute_result"
    }
   ],
   "source": [
    "path = Path(\"../Data/lung_tumor_segmentation/processed/train/0\")\n",
    "\n",
    "file = \"220.npy\"\n",
    "\n",
    "slice = np.load(path/\"data\"/file)\n",
    "mask = np.load(path/\"masks\"/file)\n",
    "\n",
    "slice.shape, mask.shape"
   ]
  },
  {
   "cell_type": "code",
   "execution_count": 26,
   "id": "quiet-isolation",
   "metadata": {},
   "outputs": [
    {
     "data": {
      "text/plain": [
       "<matplotlib.image.AxesImage at 0x72e90c65d180>"
      ]
     },
     "execution_count": 26,
     "metadata": {},
     "output_type": "execute_result"
    },
    {
     "data": {
      "image/png": "[encoded data removed]",
      "text/plain": [
       "<Figure size 432x288 with 1 Axes>"
      ]
     },
     "metadata": {
      "needs_background": "light"
     },
     "output_type": "display_data"
    }
   ],
   "source": [
    "plt.imshow(slice, cmap=\"bone\")\n",
    "mask_ = np.ma.masked_where(mask==0, mask)\n",
    "plt.imshow(mask_, alpha=0.7)"
   ]
  },
  {
   "cell_type": "code",
   "execution_count": null,
   "id": "d36968df",
   "metadata": {},
   "outputs": [],
   "source": []
  }
 ],
 "metadata": {
  "kernelspec": {
   "display_name": "env",
   "language": "python",
   "name": "env"
  },
  "language_info": {
   "codemirror_mode": {
    "name": "ipython",
    "version": 3
   },
   "file_extension": ".py",
   "mimetype": "text/x-python",
   "name": "python",
   "nbconvert_exporter": "python",
   "pygments_lexer": "ipython3",
   "version": "3.10.12"
  }
 },
 "nbformat": 4,
 "nbformat_minor": 5
}
